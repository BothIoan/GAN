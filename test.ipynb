{
 "cells": [
  {
   "cell_type": "code",
   "execution_count": 1,
   "metadata": {},
   "outputs": [],
   "source": [
    "import torch.nn as nn\n",
    "import torch\n",
    "import torchvision\n",
    "import math\n",
    "import matplotlib.pyplot as plt\n",
    "import os\n",
    "from IPython.display import display\n",
    "import PIL.Image as Img\n",
    "import numpy as np\n",
    "import gan\n",
    "import models\n",
    "import loader\n"
   ]
  },
  {
   "cell_type": "code",
   "execution_count": 2,
   "metadata": {},
   "outputs": [],
   "source": [
    "\n",
    "images = loader.imgAppend(\"./Degenset/trainB\")\n",
    "trainLoader = torch.utils.data.DataLoader(\n",
    "    loader.Dataset(images),\n",
    "    batch_size = 32,\n",
    "    shuffle = True\n",
    ")\n"
   ]
  },
  {
   "cell_type": "code",
   "execution_count": 3,
   "metadata": {},
   "outputs": [],
   "source": [
    "disc = models.Discriminator2d(channelSize= 3,featureSize=64,outSize= 1).to(gan.device)\n",
    "gen = models.Generator2d(channelSize= 3, featureSize= 64,inSize= 100).to(gan.device)\n",
    "\n",
    "gan.train(batchSize= 32,data = trainLoader,disc = disc, gen = gen,discReps=5,genReps=1)"
   ]
  },
  {
   "cell_type": "code",
   "execution_count": 4,
   "metadata": {},
   "outputs": [],
   "source": [
    "import numpy as np\n",
    "genSample = gen.forward(torch.rand(9,100,1,1).to(gan.device))\n",
    "colage = Img.new('RGB',(64*3,64*3))\n",
    "for i in range(3):\n",
    "    for j in range(3):\n",
    "        imgSample = genSample[i+ j].cpu().detach().numpy()\n",
    "        imgSample *= 255\n",
    "        imgSample = imgSample.transpose(1,2,0)\n",
    "        imgSample = imgSample.astype(np.uint8)\n",
    "        imgSample = Img.fromarray(imgSample)\n",
    "        colage.paste(imgSample,(64*i,64*j))\n",
    "\n",
    "colage.show()\n",
    "    #is fete de animeuri\n"
   ]
  }
 ],
 "metadata": {
  "interpreter": {
   "hash": "d739863d4e98441be2eab90af9da0c5d802913e131abe0db400ac9083557310a"
  },
  "kernelspec": {
   "display_name": "Python 3.8.3 64-bit ('Gan': venv)",
   "name": "python3"
  },
  "language_info": {
   "codemirror_mode": {
    "name": "ipython",
    "version": 3
   },
   "file_extension": ".py",
   "mimetype": "text/x-python",
   "name": "python",
   "nbconvert_exporter": "python",
   "pygments_lexer": "ipython3",
   "version": "3.8.3"
  }
 },
 "nbformat": 4,
 "nbformat_minor": 2
}
